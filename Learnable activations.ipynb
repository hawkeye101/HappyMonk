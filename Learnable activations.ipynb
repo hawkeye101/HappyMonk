{
 "cells": [
  {
   "cell_type": "code",
   "execution_count": 10,
   "metadata": {},
   "outputs": [],
   "source": [
    "import torch\n",
    "import torch.nn as nn\n",
    "import torchvision\n",
    "import numpy as np\n",
    "batch_size = 64\n",
    "\n",
    "transform = torchvision.transforms.Compose([torchvision.transforms.ToTensor()])\n",
    "trainset = torchvision.datasets.MNIST('~/.pytorch/MNIST_data/', train = True, download = True, transform=transform)\n",
    "trainloader = torch.utils.data.DataLoader(trainset, batch_size = batch_size, shuffle = True)\n",
    "\n",
    "testset = torchvision.datasets.MNIST('~/.pytorch/MNIST_data/', train = False, download = True, transform=transform)\n",
    "testloader = torch.utils.data.DataLoader(testset, batch_size = batch_size, shuffle = True)"
   ]
  },
  {
   "cell_type": "code",
   "execution_count": 21,
   "metadata": {},
   "outputs": [
    {
     "data": {
      "text/plain": [
       "Network(\n",
       "  (output): Linear(in_features=784, out_features=10, bias=True)\n",
       "  (LReLU): learned_relu()\n",
       ")"
      ]
     },
     "execution_count": 21,
     "metadata": {},
     "output_type": "execute_result"
    }
   ],
   "source": [
    "class learned_relu(nn.Module):\n",
    "    def __init__(self, k0 = 1, k1 = 1):\n",
    "        super().__init__()\n",
    "        ones = torch.tensor([1.0])\n",
    "        self.k0 = nn.Parameter(k0 * ones)\n",
    "        self.k1 = nn.Parameter(k1 * ones)\n",
    "        \n",
    "    def forward(self, x):\n",
    "        return self.k1 * x + self.k0\n",
    "\n",
    "class Network(nn.Module):\n",
    "    def __init__(self):\n",
    "        super().__init__()\n",
    "        \n",
    "        self.output = nn.Linear(784, 10)\n",
    "        self.LReLU = learned_relu()\n",
    "        \n",
    "    def forward(self, x):\n",
    "        x = self.output(x)\n",
    "        x = self.LReLU(x)\n",
    "        \n",
    "        return x\n",
    "    \n",
    "model = Network()\n",
    "model"
   ]
  },
  {
   "cell_type": "code",
   "execution_count": 22,
   "metadata": {},
   "outputs": [
    {
     "name": "stdout",
     "output_type": "stream",
     "text": [
      "Parameter containing:\n",
      "tensor([1.], requires_grad=True)\n",
      "Parameter containing:\n",
      "tensor([1.], requires_grad=True)\n"
     ]
    }
   ],
   "source": [
    "print(model.LReLU.k0)\n",
    "print(model.LReLU.k1)"
   ]
  },
  {
   "cell_type": "code",
   "execution_count": 23,
   "metadata": {},
   "outputs": [
    {
     "name": "stdout",
     "output_type": "stream",
     "text": [
      "Epoch: 1, Train accuracy: 55.153333, Test accuracy: 75.830000\n",
      "Epoch: 2, Train accuracy: 79.476667, Test accuracy: 83.040000\n",
      "Epoch: 3, Train accuracy: 83.498333, Test accuracy: 85.800000\n",
      "Epoch: 4, Train accuracy: 85.418333, Test accuracy: 87.170000\n",
      "Epoch: 5, Train accuracy: 86.558333, Test accuracy: 87.890000\n",
      "Epoch: 6, Train accuracy: 87.371667, Test accuracy: 88.550000\n",
      "Epoch: 7, Train accuracy: 87.950000, Test accuracy: 88.920000\n",
      "Epoch: 8, Train accuracy: 88.413333, Test accuracy: 89.210000\n",
      "Epoch: 9, Train accuracy: 88.783333, Test accuracy: 89.750000\n",
      "Epoch: 10, Train accuracy: 89.063333, Test accuracy: 89.930000\n",
      "Epoch: 11, Train accuracy: 89.330000, Test accuracy: 90.270000\n",
      "Epoch: 12, Train accuracy: 89.516667, Test accuracy: 90.500000\n",
      "Epoch: 13, Train accuracy: 89.740000, Test accuracy: 90.600000\n",
      "Epoch: 14, Train accuracy: 89.881667, Test accuracy: 90.670000\n",
      "Epoch: 15, Train accuracy: 90.066667, Test accuracy: 90.800000\n",
      "Epoch: 16, Train accuracy: 90.183333, Test accuracy: 90.820000\n",
      "Epoch: 17, Train accuracy: 90.318333, Test accuracy: 90.960000\n",
      "Epoch: 18, Train accuracy: 90.433333, Test accuracy: 91.010000\n",
      "Epoch: 19, Train accuracy: 90.538333, Test accuracy: 91.080000\n",
      "Epoch: 20, Train accuracy: 90.631667, Test accuracy: 91.170000\n",
      "Epoch: 21, Train accuracy: 90.728333, Test accuracy: 91.230000\n",
      "Epoch: 22, Train accuracy: 90.805000, Test accuracy: 91.340000\n",
      "Epoch: 23, Train accuracy: 90.895000, Test accuracy: 91.460000\n",
      "Epoch: 24, Train accuracy: 90.948333, Test accuracy: 91.380000\n",
      "Epoch: 25, Train accuracy: 91.006667, Test accuracy: 91.440000\n",
      "Epoch: 26, Train accuracy: 91.088333, Test accuracy: 91.480000\n",
      "Epoch: 27, Train accuracy: 91.130000, Test accuracy: 91.590000\n",
      "Epoch: 28, Train accuracy: 91.228333, Test accuracy: 91.610000\n",
      "Epoch: 29, Train accuracy: 91.266667, Test accuracy: 91.570000\n",
      "Epoch: 30, Train accuracy: 91.338333, Test accuracy: 91.650000\n",
      "Epoch: 31, Train accuracy: 91.405000, Test accuracy: 91.610000\n",
      "Epoch: 32, Train accuracy: 91.436667, Test accuracy: 91.690000\n",
      "Epoch: 33, Train accuracy: 91.493333, Test accuracy: 91.670000\n",
      "Epoch: 34, Train accuracy: 91.525000, Test accuracy: 91.750000\n",
      "Epoch: 35, Train accuracy: 91.550000, Test accuracy: 91.770000\n",
      "Epoch: 36, Train accuracy: 91.566667, Test accuracy: 91.790000\n",
      "Epoch: 37, Train accuracy: 91.615000, Test accuracy: 91.760000\n",
      "Epoch: 38, Train accuracy: 91.651667, Test accuracy: 91.830000\n",
      "Epoch: 39, Train accuracy: 91.668333, Test accuracy: 91.780000\n",
      "Epoch: 40, Train accuracy: 91.705000, Test accuracy: 91.910000\n",
      "Epoch: 41, Train accuracy: 91.753333, Test accuracy: 91.920000\n",
      "Epoch: 42, Train accuracy: 91.785000, Test accuracy: 91.910000\n",
      "Epoch: 43, Train accuracy: 91.800000, Test accuracy: 91.950000\n",
      "Epoch: 44, Train accuracy: 91.810000, Test accuracy: 91.940000\n",
      "Epoch: 45, Train accuracy: 91.865000, Test accuracy: 91.950000\n",
      "Epoch: 46, Train accuracy: 91.871667, Test accuracy: 91.980000\n",
      "Epoch: 47, Train accuracy: 91.861667, Test accuracy: 92.040000\n",
      "Epoch: 48, Train accuracy: 91.921667, Test accuracy: 92.020000\n",
      "Epoch: 49, Train accuracy: 91.933333, Test accuracy: 91.990000\n",
      "Epoch: 50, Train accuracy: 91.971667, Test accuracy: 92.090000\n",
      "Epoch: 51, Train accuracy: 91.978333, Test accuracy: 92.050000\n",
      "Epoch: 52, Train accuracy: 92.000000, Test accuracy: 91.990000\n",
      "Epoch: 53, Train accuracy: 92.013333, Test accuracy: 91.940000\n",
      "Epoch: 54, Train accuracy: 92.033333, Test accuracy: 92.000000\n",
      "Epoch: 55, Train accuracy: 92.071667, Test accuracy: 91.990000\n",
      "Epoch: 56, Train accuracy: 92.070000, Test accuracy: 92.050000\n",
      "Epoch: 57, Train accuracy: 92.116667, Test accuracy: 91.980000\n",
      "Epoch: 58, Train accuracy: 92.085000, Test accuracy: 92.060000\n",
      "Epoch: 59, Train accuracy: 92.135000, Test accuracy: 92.090000\n",
      "Epoch: 60, Train accuracy: 92.141667, Test accuracy: 92.080000\n",
      "Epoch: 61, Train accuracy: 92.180000, Test accuracy: 92.130000\n",
      "Epoch: 62, Train accuracy: 92.155000, Test accuracy: 92.100000\n",
      "Epoch: 63, Train accuracy: 92.225000, Test accuracy: 92.070000\n",
      "Epoch: 64, Train accuracy: 92.208333, Test accuracy: 92.070000\n",
      "Epoch: 65, Train accuracy: 92.193333, Test accuracy: 92.110000\n",
      "Epoch: 66, Train accuracy: 92.236667, Test accuracy: 92.090000\n",
      "Epoch: 67, Train accuracy: 92.240000, Test accuracy: 92.080000\n",
      "Epoch: 68, Train accuracy: 92.258333, Test accuracy: 92.110000\n",
      "Epoch: 69, Train accuracy: 92.288333, Test accuracy: 92.170000\n",
      "Epoch: 70, Train accuracy: 92.283333, Test accuracy: 92.130000\n",
      "Epoch: 71, Train accuracy: 92.288333, Test accuracy: 92.150000\n",
      "Epoch: 72, Train accuracy: 92.306667, Test accuracy: 92.090000\n",
      "Epoch: 73, Train accuracy: 92.358333, Test accuracy: 92.020000\n",
      "Epoch: 74, Train accuracy: 92.335000, Test accuracy: 92.060000\n",
      "Epoch: 75, Train accuracy: 92.341667, Test accuracy: 92.160000\n"
     ]
    }
   ],
   "source": [
    "from torch import optim\n",
    "optimizer = optim.SGD(model.parameters(), lr = 0.001)\n",
    "criterion = nn.CrossEntropyLoss()\n",
    "epochs = 75\n",
    "train_loss = []\n",
    "test_loss = []\n",
    "k0_val = []\n",
    "k1_val = []\n",
    "for e in range(1,epochs+1):\n",
    "    running_loss = 0\n",
    "    train_correct = 0\n",
    "    for images, labels in trainloader:\n",
    "        input = images.resize_(images.shape[0],torch.numel(images[0]))\n",
    "\n",
    "        output = model(input)\n",
    "        optimizer.zero_grad()\n",
    "        loss = criterion(output, labels)\n",
    "        running_loss += loss.item()\n",
    "        loss.backward()\n",
    "        optimizer.step()\n",
    "        \n",
    "        train_correct += np.sum(np.argmax(torch.nn.functional.softmax(output, dim=1).detach().numpy(), axis=1) == labels.detach().numpy())        \n",
    "\n",
    "    train_loss.append(running_loss)\n",
    "        \n",
    "    k0_val.append(model.LReLU.k0)\n",
    "    k1_val.append(model.LReLU.k1)\n",
    "    test_correct = 0\n",
    "    # Set model to evaluation mode before testing to disable dropout!!!\n",
    "    with torch.no_grad():\n",
    "        model.eval()\n",
    "        for images, labels in testloader:\n",
    "            input = images.resize_(images.shape[0],torch.numel(images[0]))\n",
    "            output = model(input)\n",
    "            loss = criterion(output, labels)\n",
    "            running_loss += loss.item()\n",
    "            test_correct += np.sum(np.argmax(torch.nn.functional.softmax(output, dim=1).detach().numpy(), axis=1) == labels.detach().numpy())\n",
    "\n",
    "    test_loss.append(running_loss)\n",
    "        \n",
    "    train_accuracy = 100 * train_correct / len(trainset)\n",
    "    test_accuracy = 100 * test_correct / len(testset)\n",
    "    print(\"Epoch: %d, Train accuracy: %lf, Test accuracy: %lf\"%(e, train_accuracy, test_accuracy))"
   ]
  },
  {
   "cell_type": "code",
   "execution_count": 25,
   "metadata": {},
   "outputs": [
    {
     "data": {
      "image/png": "[encoded data removed]",
      "text/plain": [
       "<Figure size 432x288 with 1 Axes>"
      ]
     },
     "metadata": {
      "needs_background": "light"
     },
     "output_type": "display_data"
    },
    {
     "data": {
      "text/plain": [
       "Text(0, 0.5, 'k1 parameter')"
      ]
     },
     "execution_count": 25,
     "metadata": {},
     "output_type": "execute_result"
    },
    {
     "data": {
      "image/png": "[encoded data removed]",
      "text/plain": [
       "<Figure size 432x288 with 1 Axes>"
      ]
     },
     "metadata": {
      "needs_background": "light"
     },
     "output_type": "display_data"
    },
    {
     "data": {
      "image/png": "[encoded data removed]",
      "text/plain": [
       "<Figure size 432x288 with 1 Axes>"
      ]
     },
     "metadata": {
      "needs_background": "light"
     },
     "output_type": "display_data"
    }
   ],
   "source": [
    "import matplotlib.pyplot as plt\n",
    "plt.plot(train_loss, label = 'training loss')\n",
    "plt.plot(test_loss, label = 'test loss')\n",
    "plt.xlabel('Epoch')\n",
    "plt.ylabel('Loss')\n",
    "plt.legend()\n",
    "plt.show()\n",
    "\n",
    "plt.figure()\n",
    "plt.plot(k0_val)\n",
    "plt.xlabel('Epoch')\n",
    "plt.ylabel('k0 parameter')\n",
    "plt.figure()\n",
    "plt.plot(k1_val)\n",
    "plt.xlabel('Epoch')\n",
    "plt.ylabel('k1 parameter')"
   ]
  },
  {
   "cell_type": "code",
   "execution_count": null,
   "metadata": {},
   "outputs": [],
   "source": []
  }
 ],
 "metadata": {
  "kernelspec": {
   "display_name": "Python 3",
   "language": "python",
   "name": "python3"
  },
  "language_info": {
   "codemirror_mode": {
    "name": "ipython",
    "version": 3
   },
   "file_extension": ".py",
   "mimetype": "text/x-python",
   "name": "python",
   "nbconvert_exporter": "python",
   "pygments_lexer": "ipython3",
   "version": "3.8.5"
  }
 },
 "nbformat": 4,
 "nbformat_minor": 4
}
