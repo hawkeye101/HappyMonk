{
 "cells": [
  {
   "cell_type": "markdown",
   "metadata": {},
   "source": [
    "# Name: Arvind Ganesh"
   ]
  },
  {
   "cell_type": "code",
   "execution_count": 3,
   "metadata": {},
   "outputs": [],
   "source": [
    "import torch\n",
    "import torch.nn as nn\n",
    "import torchvision\n",
    "import numpy as np\n",
    "batch_size = 128\n",
    "\n",
    "transform = torchvision.transforms.Compose([torchvision.transforms.ToTensor()])\n",
    "trainset = torchvision.datasets.MNIST('~/.pytorch/MNIST_data/', train = True, download = True, transform=transform)\n",
    "#trainset=[]\n",
    "#for index in range(23000):\n",
    "#    trainset.append(trainset2[index])\n",
    "trainloader = torch.utils.data.DataLoader(trainset, batch_size = batch_size, shuffle = True)\n",
    "\n",
    "testset = torchvision.datasets.MNIST('~/.pytorch/MNIST_data/', train = False, download = True, transform=transform)\n",
    "testloader = torch.utils.data.DataLoader(testset, batch_size = batch_size, shuffle = True)"
   ]
  },
  {
   "cell_type": "code",
   "execution_count": 4,
   "metadata": {},
   "outputs": [
    {
     "data": {
      "text/plain": [
       "60000"
      ]
     },
     "execution_count": 4,
     "metadata": {},
     "output_type": "execute_result"
    }
   ],
   "source": [
    "len(trainset)"
   ]
  },
  {
   "cell_type": "code",
   "execution_count": 40,
   "metadata": {},
   "outputs": [],
   "source": [
    "class learned_relu(nn.Module):\n",
    "    def __init__(self, k0 = 10, k1 = 10):\n",
    "        super().__init__()\n",
    "        ones = torch.tensor([1.0])\n",
    "        self.k0 = nn.Parameter(k0 * ones)\n",
    "        self.k1 = nn.Parameter(k1 * ones)\n",
    "        \n",
    "    def forward(self, x):\n",
    "        return self.k1 * x + self.k0\n",
    "\n",
    "class Network(nn.Module):\n",
    "    def __init__(self):\n",
    "        super().__init__()\n",
    "        \n",
    "        self.hidden = nn.Linear(784,16)\n",
    "        self.output = nn.Linear(16,10)\n",
    "        self.LReLU = learned_relu()\n",
    "        #self.ReLU = nn.ReLU()\n",
    "        \n",
    "    def forward(self, x):\n",
    "        x = self.hidden(x)\n",
    "        x = self.LReLU(x)\n",
    "        x = self.output(x)\n",
    "        x = self.LReLU(x)\n",
    "        \n",
    "        return x\n",
    "    \n",
    "model = Network()"
   ]
  },
  {
   "cell_type": "code",
   "execution_count": 41,
   "metadata": {},
   "outputs": [
    {
     "name": "stdout",
     "output_type": "stream",
     "text": [
      "----------------------------------------------------------------\n",
      "        Layer (type)               Output Shape         Param #\n",
      "================================================================\n",
      "            Linear-1                   [-1, 16]          12,560\n",
      "      learned_relu-2                   [-1, 16]               0\n",
      "            Linear-3                   [-1, 10]             170\n",
      "      learned_relu-4                   [-1, 10]               0\n",
      "================================================================\n",
      "Total params: 12,730\n",
      "Trainable params: 12,730\n",
      "Non-trainable params: 0\n",
      "----------------------------------------------------------------\n",
      "Input size (MB): 0.00\n",
      "Forward/backward pass size (MB): 0.00\n",
      "Params size (MB): 0.05\n",
      "Estimated Total Size (MB): 0.05\n",
      "----------------------------------------------------------------\n"
     ]
    }
   ],
   "source": [
    "from torchsummary import summary\n",
    "summary(model, (784,))"
   ]
  },
  {
   "cell_type": "code",
   "execution_count": 43,
   "metadata": {},
   "outputs": [
    {
     "name": "stdout",
     "output_type": "stream",
     "text": [
      "torch.Size([16, 784])\n",
      "torch.Size([16])\n",
      "torch.Size([10, 16])\n",
      "torch.Size([10])\n",
      "torch.Size([1])\n",
      "torch.Size([1])\n"
     ]
    }
   ],
   "source": [
    "for par in model.parameters():\n",
    "    print(par.shape)"
   ]
  },
  {
   "cell_type": "code",
   "execution_count": 27,
   "metadata": {},
   "outputs": [
    {
     "data": {
      "text/plain": [
       "OrderedDict([('k0',\n",
       "              Parameter containing:\n",
       "              tensor([10.], requires_grad=True)),\n",
       "             ('k1',\n",
       "              Parameter containing:\n",
       "              tensor([10.], requires_grad=True))])"
      ]
     },
     "execution_count": 27,
     "metadata": {},
     "output_type": "execute_result"
    }
   ],
   "source": [
    "model.LReLU._parameters"
   ]
  },
  {
   "cell_type": "code",
   "execution_count": 28,
   "metadata": {},
   "outputs": [
    {
     "name": "stdout",
     "output_type": "stream",
     "text": [
      "Epoch: 1\n",
      "Train accuracy: 82.838333, Train F1 score: 0.826132\n",
      "Test accuracy: 84.470000, Test F1 score: 0.859888\n",
      "Epoch: 2\n",
      "Train accuracy: 88.753333, Train F1 score: 0.886049\n",
      "Test accuracy: 89.940000, Test F1 score: 0.898718\n",
      "Epoch: 3\n",
      "Train accuracy: 89.880000, Train F1 score: 0.897480\n",
      "Test accuracy: 89.790000, Test F1 score: 0.898597\n",
      "Epoch: 4\n",
      "Train accuracy: 90.490000, Train F1 score: 0.903704\n",
      "Test accuracy: 90.740000, Test F1 score: 0.906434\n",
      "Epoch: 5\n",
      "Train accuracy: 91.041667, Train F1 score: 0.909294\n",
      "Test accuracy: 91.020000, Test F1 score: 0.909952\n",
      "Epoch: 6\n",
      "Train accuracy: 91.353333, Train F1 score: 0.912434\n",
      "Test accuracy: 91.260000, Test F1 score: 0.912227\n",
      "Epoch: 7\n",
      "Train accuracy: 91.658333, Train F1 score: 0.915557\n",
      "Test accuracy: 91.480000, Test F1 score: 0.914024\n",
      "Epoch: 8\n",
      "Train accuracy: 91.770000, Train F1 score: 0.916659\n",
      "Test accuracy: 91.620000, Test F1 score: 0.915615\n",
      "Epoch: 9\n",
      "Train accuracy: 91.963333, Train F1 score: 0.918649\n",
      "Test accuracy: 91.220000, Test F1 score: 0.911996\n",
      "Epoch: 10\n",
      "Train accuracy: 92.018333, Train F1 score: 0.919150\n",
      "Test accuracy: 91.950000, Test F1 score: 0.918895\n",
      "Epoch: 11\n",
      "Train accuracy: 92.231667, Train F1 score: 0.921309\n",
      "Test accuracy: 92.000000, Test F1 score: 0.919150\n",
      "Epoch: 12\n",
      "Train accuracy: 92.278333, Train F1 score: 0.921831\n",
      "Test accuracy: 90.700000, Test F1 score: 0.907672\n",
      "Epoch: 13\n",
      "Train accuracy: 92.293333, Train F1 score: 0.921959\n",
      "Test accuracy: 91.440000, Test F1 score: 0.914165\n",
      "Epoch: 14\n",
      "Train accuracy: 92.400000, Train F1 score: 0.923003\n",
      "Test accuracy: 91.530000, Test F1 score: 0.914942\n",
      "Epoch: 15\n",
      "Train accuracy: 92.351667, Train F1 score: 0.922551\n",
      "Test accuracy: 91.520000, Test F1 score: 0.915455\n",
      "Epoch: 16\n",
      "Train accuracy: 92.486667, Train F1 score: 0.923881\n",
      "Test accuracy: 92.070000, Test F1 score: 0.919592\n",
      "Epoch: 17\n",
      "Train accuracy: 92.535000, Train F1 score: 0.924386\n",
      "Test accuracy: 91.760000, Test F1 score: 0.916613\n",
      "Epoch: 18\n",
      "Train accuracy: 92.560000, Train F1 score: 0.924599\n",
      "Test accuracy: 92.010000, Test F1 score: 0.919847\n",
      "Epoch: 19\n",
      "Train accuracy: 92.565000, Train F1 score: 0.924680\n",
      "Test accuracy: 92.160000, Test F1 score: 0.920852\n",
      "Epoch: 20\n",
      "Train accuracy: 92.605000, Train F1 score: 0.925085\n",
      "Test accuracy: 92.230000, Test F1 score: 0.921406\n",
      "Epoch: 21\n",
      "Train accuracy: 92.641667, Train F1 score: 0.925479\n",
      "Test accuracy: 91.740000, Test F1 score: 0.916709\n",
      "Epoch: 22\n",
      "Train accuracy: 92.673333, Train F1 score: 0.925784\n",
      "Test accuracy: 92.150000, Test F1 score: 0.920936\n",
      "Epoch: 23\n",
      "Train accuracy: 92.768333, Train F1 score: 0.926793\n",
      "Test accuracy: 92.300000, Test F1 score: 0.922130\n",
      "Epoch: 24\n",
      "Train accuracy: 92.671667, Train F1 score: 0.925781\n",
      "Test accuracy: 91.910000, Test F1 score: 0.918219\n",
      "Epoch: 25\n",
      "Train accuracy: 92.806667, Train F1 score: 0.927157\n",
      "Test accuracy: 92.190000, Test F1 score: 0.920855\n",
      "Epoch: 26\n",
      "Train accuracy: 92.746667, Train F1 score: 0.926535\n",
      "Test accuracy: 92.400000, Test F1 score: 0.923193\n",
      "Epoch: 27\n",
      "Train accuracy: 92.766667, Train F1 score: 0.926737\n",
      "Test accuracy: 92.470000, Test F1 score: 0.923586\n",
      "Epoch: 28\n",
      "Train accuracy: 92.810000, Train F1 score: 0.927185\n",
      "Test accuracy: 92.200000, Test F1 score: 0.921283\n",
      "Epoch: 29\n",
      "Train accuracy: 92.865000, Train F1 score: 0.927742\n",
      "Test accuracy: 92.370000, Test F1 score: 0.923002\n",
      "Epoch: 30\n",
      "Train accuracy: 92.856667, Train F1 score: 0.927630\n",
      "Test accuracy: 92.080000, Test F1 score: 0.920126\n",
      "Epoch: 31\n",
      "Train accuracy: 92.845000, Train F1 score: 0.927525\n",
      "Test accuracy: 92.130000, Test F1 score: 0.920226\n",
      "Epoch: 32\n",
      "Train accuracy: 92.886667, Train F1 score: 0.927931\n",
      "Test accuracy: 92.090000, Test F1 score: 0.920024\n",
      "Epoch: 33\n",
      "Train accuracy: 92.960000, Train F1 score: 0.928712\n",
      "Test accuracy: 92.110000, Test F1 score: 0.920364\n",
      "Epoch: 34\n",
      "Train accuracy: 92.948333, Train F1 score: 0.928567\n",
      "Test accuracy: 92.160000, Test F1 score: 0.920750\n",
      "Epoch: 35\n",
      "Train accuracy: 92.925000, Train F1 score: 0.928345\n",
      "Test accuracy: 91.990000, Test F1 score: 0.919135\n",
      "Epoch: 36\n",
      "Train accuracy: 92.975000, Train F1 score: 0.928848\n",
      "Test accuracy: 92.270000, Test F1 score: 0.921790\n",
      "Epoch: 37\n",
      "Train accuracy: 93.021667, Train F1 score: 0.929310\n",
      "Test accuracy: 92.210000, Test F1 score: 0.921300\n",
      "Epoch: 38\n",
      "Train accuracy: 92.915000, Train F1 score: 0.928211\n",
      "Test accuracy: 92.140000, Test F1 score: 0.920332\n",
      "Epoch: 39\n",
      "Train accuracy: 93.003333, Train F1 score: 0.929112\n",
      "Test accuracy: 92.360000, Test F1 score: 0.922755\n",
      "Epoch: 40\n",
      "Train accuracy: 93.075000, Train F1 score: 0.929858\n",
      "Test accuracy: 91.960000, Test F1 score: 0.918610\n",
      "Epoch: 41\n",
      "Train accuracy: 93.053333, Train F1 score: 0.929667\n",
      "Test accuracy: 92.500000, Test F1 score: 0.924261\n",
      "Epoch: 42\n",
      "Train accuracy: 93.020000, Train F1 score: 0.929285\n",
      "Test accuracy: 92.160000, Test F1 score: 0.920906\n",
      "Epoch: 43\n",
      "Train accuracy: 93.081667, Train F1 score: 0.929913\n",
      "Test accuracy: 92.140000, Test F1 score: 0.920402\n",
      "Epoch: 44\n",
      "Train accuracy: 93.101667, Train F1 score: 0.930121\n",
      "Test accuracy: 92.060000, Test F1 score: 0.920152\n",
      "Epoch: 45\n",
      "Train accuracy: 93.050000, Train F1 score: 0.929636\n",
      "Test accuracy: 92.410000, Test F1 score: 0.923079\n",
      "Epoch: 46\n",
      "Train accuracy: 93.058333, Train F1 score: 0.929670\n",
      "Test accuracy: 92.170000, Test F1 score: 0.920924\n",
      "Epoch: 47\n",
      "Train accuracy: 93.111667, Train F1 score: 0.930266\n",
      "Test accuracy: 92.300000, Test F1 score: 0.921971\n",
      "Epoch: 48\n",
      "Train accuracy: 93.118333, Train F1 score: 0.930309\n",
      "Test accuracy: 91.800000, Test F1 score: 0.917808\n",
      "Epoch: 49\n",
      "Train accuracy: 93.051667, Train F1 score: 0.929635\n",
      "Test accuracy: 92.230000, Test F1 score: 0.921374\n",
      "Epoch: 50\n",
      "Train accuracy: 93.136667, Train F1 score: 0.930467\n",
      "Test accuracy: 92.390000, Test F1 score: 0.923066\n"
     ]
    }
   ],
   "source": [
    "from torch import optim\n",
    "from sklearn.metrics import confusion_matrix\n",
    "cm = np.zeros((10,10))\n",
    "\n",
    "optimizer = optim.SGD(model.parameters(), lr = 0.001)\n",
    "criterion = nn.CrossEntropyLoss()\n",
    "epochs = 50\n",
    "train_loss = []\n",
    "test_loss = []\n",
    "train_acc = []\n",
    "test_acc = []\n",
    "train_F1 = []\n",
    "test_F1 = []\n",
    "k0_val = []\n",
    "k1_val = []\n",
    "for e in range(1,epochs+1):\n",
    "    print('Epoch:',e)\n",
    "    running_loss = 0\n",
    "    train_correct = 0\n",
    "    cm = np.zeros((10,10))\n",
    "    cm_diag = np.zeros(10)\n",
    "    \n",
    "    # Train model\n",
    "    for images, labels in trainloader:\n",
    "        input = images.resize_(images.shape[0],torch.numel(images[0]))\n",
    "\n",
    "        # Train batch\n",
    "        output = model(input)\n",
    "        optimizer.zero_grad()\n",
    "        loss = criterion(output, labels)\n",
    "        running_loss += loss.item()\n",
    "        loss.backward()\n",
    "        optimizer.step()\n",
    "        \n",
    "        # Confusion matrix\n",
    "        predictions = torch.argmax(torch.nn.functional.softmax(output, dim=1), dim=1)\n",
    "        cm_temp = confusion_matrix(labels, predictions,labels = [0,1,2,3,4,5,6,7,8,9])\n",
    "        cm += cm_temp\n",
    "        cm_diag += np.diag(cm_temp)\n",
    "        \n",
    "    # Training F1 score and accuracy computations for epoch\n",
    "    train_correct += np.sum(cm_diag)\n",
    "    recall = cm_diag / np.sum(cm, axis = 1)\n",
    "    precision = cm_diag / np.sum(cm, axis = 0)\n",
    "    mean_precision = np.mean(precision)\n",
    "    mean_recall = np.mean(recall)\n",
    "    train_F1_score = 2 * mean_precision * mean_recall / (mean_precision + mean_recall)\n",
    "    train_accuracy = 100 * train_correct / len(trainset)\n",
    "    print('Train accuracy: %lf, Train F1 score: %lf' %  (train_accuracy, train_F1_score) )\n",
    "    \n",
    "    # Store metrics\n",
    "    train_loss.append(running_loss)\n",
    "    train_acc.append(train_accuracy)\n",
    "    train_F1.append(train_F1_score)\n",
    "    \n",
    "    ## Store activation function parameters\n",
    "    k0_val.append(model.LReLU.k0)\n",
    "    k1_val.append(model.LReLU.k1)\n",
    "    \n",
    "    # Set model to evaluation mode before testing\n",
    "    with torch.no_grad():\n",
    "        model.eval()\n",
    "        running_loss = 0\n",
    "        test_correct = 0\n",
    "        cm = np.zeros((10,10))\n",
    "        cm_diag = np.zeros(10)\n",
    "        \n",
    "        # Test model\n",
    "        for images, labels in testloader:\n",
    "            input = images.resize_(images.shape[0],torch.numel(images[0]))\n",
    "            \n",
    "            # Test batch\n",
    "            output = model(input)\n",
    "            loss = criterion(output, labels)\n",
    "            running_loss += loss.item()\n",
    "            \n",
    "            # Confusion matrix\n",
    "            predictions = torch.argmax(torch.nn.functional.softmax(output, dim=1), dim=1)\n",
    "            cm_temp = confusion_matrix(labels, predictions,labels = [0,1,2,3,4,5,6,7,8,9])\n",
    "            cm += cm_temp\n",
    "            cm_diag += np.diag(cm_temp)\n",
    "        \n",
    "        # Test F1 score and accuracy computations for epoch\n",
    "        test_correct += np.sum(cm_diag)\n",
    "        recall = cm_diag / np.sum(cm, axis = 1)\n",
    "        precision = cm_diag / np.sum(cm, axis = 0)\n",
    "        mean_precision = np.mean(precision)\n",
    "        mean_recall = np.mean(recall)\n",
    "        test_F1_score = 2 * mean_precision * mean_recall / (mean_precision + mean_recall)\n",
    "        test_accuracy = 100 * test_correct / len(testset)\n",
    "        print('Test accuracy: %lf, Test F1 score: %lf' %  (test_accuracy, test_F1_score) )\n",
    "\n",
    "    # Store metrics\n",
    "    test_loss.append(running_loss)\n",
    "    test_acc.append(test_accuracy)\n",
    "    test_F1.append(test_F1_score)\n",
    "    \n",
    "#    test_accuracy = 100 * test_correct / len(testset)\n",
    "#    print(\"Test accuracy: %lf %lf, Test F1 score: %lf\"%(test_accuracy, test_f1_score))"
   ]
  },
  {
   "cell_type": "code",
   "execution_count": 29,
   "metadata": {},
   "outputs": [],
   "source": [
    "import matplotlib.pyplot as plt\n",
    "plt.rcParams.update({\n",
    "    \"lines.color\": \"white\",\n",
    "    \"patch.edgecolor\": \"white\",\n",
    "    \"text.color\": \"black\",\n",
    "    \"axes.facecolor\": \"white\",\n",
    "    \"axes.edgecolor\": \"lightgray\",\n",
    "    \"axes.labelcolor\": \"white\",\n",
    "    \"xtick.color\": \"white\",\n",
    "    \"ytick.color\": \"white\",\n",
    "    \"grid.color\": \"lightgray\",\n",
    "    \"figure.facecolor\": \"black\",\n",
    "    \"figure.edgecolor\": \"black\",\n",
    "    \"savefig.facecolor\": \"black\",\n",
    "    \"savefig.edgecolor\": \"black\"})\n"
   ]
  },
  {
   "cell_type": "code",
   "execution_count": 30,
   "metadata": {},
   "outputs": [
    {
     "data": {
      "image/png": "[encoded data removed]",
      "text/plain": [
       "<Figure size 432x288 with 1 Axes>"
      ]
     },
     "metadata": {},
     "output_type": "display_data"
    },
    {
     "data": {
      "text/plain": [
       "<Figure size 432x288 with 0 Axes>"
      ]
     },
     "metadata": {},
     "output_type": "display_data"
    }
   ],
   "source": [
    "plt.plot(train_loss, label = 'training loss')\n",
    "plt.plot(test_loss, label = 'test loss')\n",
    "plt.xlabel('Epoch', fontsize=18)\n",
    "plt.ylabel('Loss', fontsize=18)\n",
    "plt.legend()\n",
    "plt.show()\n",
    "plt.savefig(\"loss.jpg\")"
   ]
  },
  {
   "cell_type": "code",
   "execution_count": 31,
   "metadata": {},
   "outputs": [
    {
     "data": {
      "image/png": "[encoded data removed]",
      "text/plain": [
       "<Figure size 432x288 with 1 Axes>"
      ]
     },
     "metadata": {},
     "output_type": "display_data"
    },
    {
     "data": {
      "text/plain": [
       "<Figure size 432x288 with 0 Axes>"
      ]
     },
     "metadata": {},
     "output_type": "display_data"
    }
   ],
   "source": [
    "plt.plot(train_acc, label = 'train accuracy')\n",
    "plt.plot(test_acc, label = 'test accuracy')\n",
    "plt.xlabel('Epoch', fontsize=18)\n",
    "plt.ylabel('Accuracy', fontsize=18)\n",
    "plt.legend()\n",
    "plt.show()\n",
    "plt.savefig(\"accuracy.jpg\")"
   ]
  },
  {
   "cell_type": "code",
   "execution_count": 32,
   "metadata": {},
   "outputs": [
    {
     "data": {
      "image/png": "[encoded data removed]",
      "text/plain": [
       "<Figure size 432x288 with 1 Axes>"
      ]
     },
     "metadata": {},
     "output_type": "display_data"
    },
    {
     "data": {
      "text/plain": [
       "<Figure size 432x288 with 0 Axes>"
      ]
     },
     "metadata": {},
     "output_type": "display_data"
    }
   ],
   "source": [
    "plt.plot(train_acc, label = 'train F1')\n",
    "plt.plot(test_acc, label = 'test F1')\n",
    "plt.xlabel('Epoch', fontsize=18)\n",
    "plt.ylabel('F1 score', fontsize=18)\n",
    "plt.legend()\n",
    "plt.show()\n",
    "plt.savefig(\"F1 score.jpg\")"
   ]
  },
  {
   "cell_type": "code",
   "execution_count": 33,
   "metadata": {},
   "outputs": [
    {
     "data": {
      "image/png": "[encoded data removed]",
      "text/plain": [
       "<Figure size 432x288 with 1 Axes>"
      ]
     },
     "metadata": {},
     "output_type": "display_data"
    },
    {
     "data": {
      "image/png": "[encoded data removed]",
      "text/plain": [
       "<Figure size 432x288 with 1 Axes>"
      ]
     },
     "metadata": {},
     "output_type": "display_data"
    }
   ],
   "source": [
    "plt.figure()\n",
    "plt.plot(k0_val)\n",
    "plt.xlabel('Epoch', fontsize=18)\n",
    "plt.ylabel('k0 parameter', fontsize=18)\n",
    "plt.savefig(\"k1.jpg\")\n",
    "plt.figure()\n",
    "plt.plot(k1_val)\n",
    "plt.xlabel('Epoch', fontsize=18)\n",
    "plt.ylabel('k1 parameter', fontsize=18)\n",
    "plt.savefig(\"k1.jpg\")"
   ]
  },
  {
   "cell_type": "code",
   "execution_count": null,
   "metadata": {},
   "outputs": [],
   "source": []
  }
 ],
 "metadata": {
  "kernelspec": {
   "display_name": "Python 3",
   "language": "python",
   "name": "python3"
  },
  "language_info": {
   "codemirror_mode": {
    "name": "ipython",
    "version": 3
   },
   "file_extension": ".py",
   "mimetype": "text/x-python",
   "name": "python",
   "nbconvert_exporter": "python",
   "pygments_lexer": "ipython3",
   "version": "3.8.5"
  }
 },
 "nbformat": 4,
 "nbformat_minor": 4
}
