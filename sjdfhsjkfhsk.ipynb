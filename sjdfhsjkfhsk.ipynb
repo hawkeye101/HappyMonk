{
 "cells": [
  {
   "cell_type": "markdown",
   "metadata": {},
   "source": [
    "# Name: Arvind Ganesh"
   ]
  },
  {
   "cell_type": "code",
   "execution_count": 10,
   "metadata": {},
   "outputs": [],
   "source": [
    "import torch\n",
    "import torch.nn as nn\n",
    "import torchvision\n",
    "import numpy as np\n",
    "batch_size = 64\n",
    "\n",
    "transform = torchvision.transforms.Compose([torchvision.transforms.ToTensor()])\n",
    "trainset = torchvision.datasets.MNIST('~/.pytorch/MNIST_data/', train = True, download = True, transform=transform)\n",
    "trainloader = torch.utils.data.DataLoader(trainset, batch_size = batch_size, shuffle = True)\n",
    "\n",
    "testset = torchvision.datasets.MNIST('~/.pytorch/MNIST_data/', train = False, download = True, transform=transform)\n",
    "testloader = torch.utils.data.DataLoader(testset, batch_size = batch_size, shuffle = True)"
   ]
  },
  {
   "cell_type": "code",
   "execution_count": 136,
   "metadata": {},
   "outputs": [
    {
     "data": {
      "text/plain": [
       "Network(\n",
       "  (output): Linear(in_features=784, out_features=10, bias=True)\n",
       "  (LReLU): learned_relu()\n",
       ")"
      ]
     },
     "execution_count": 136,
     "metadata": {},
     "output_type": "execute_result"
    }
   ],
   "source": [
    "class learned_relu(nn.Module):\n",
    "    def __init__(self, k0 = 1, k1 = 1):\n",
    "        super().__init__()\n",
    "        ones = torch.tensor([1.0])\n",
    "        self.k0 = nn.Parameter(k0 * ones)\n",
    "        self.k1 = nn.Parameter(k1 * ones)\n",
    "        \n",
    "    def forward(self, x):\n",
    "        return self.k1 * x + self.k0\n",
    "\n",
    "class Network(nn.Module):\n",
    "    def __init__(self):\n",
    "        super().__init__()\n",
    "        \n",
    "        self.output = nn.Linear(784, 10)\n",
    "        self.LReLU = learned_relu()\n",
    "        \n",
    "    def forward(self, x):\n",
    "        x = self.output(x)\n",
    "        x = self.LReLU(x)\n",
    "        \n",
    "        return x\n",
    "    \n",
    "model = Network()\n",
    "model"
   ]
  },
  {
   "cell_type": "code",
   "execution_count": 137,
   "metadata": {},
   "outputs": [
    {
     "name": "stdout",
     "output_type": "stream",
     "text": [
      "Parameter containing:\n",
      "tensor([1.], requires_grad=True)\n",
      "Parameter containing:\n",
      "tensor([1.], requires_grad=True)\n"
     ]
    }
   ],
   "source": [
    "print(model.LReLU.k0)\n",
    "print(model.LReLU.k1)"
   ]
  },
  {
   "cell_type": "code",
   "execution_count": 138,
   "metadata": {},
   "outputs": [
    {
     "name": "stdout",
     "output_type": "stream",
     "text": [
      "Epoch: 1\n",
      "Train accuracy: 57.690000, Train F1 score: 0.588859\n",
      "Test accuracy: 78.030000, Test F1 score: 0.783917\n",
      "Epoch: 2\n",
      "Train accuracy: 80.506667, Train F1 score: 0.805409\n",
      "Test accuracy: 83.790000, Test F1 score: 0.836836\n",
      "Epoch: 3\n",
      "Train accuracy: 84.005000, Train F1 score: 0.838680\n",
      "Test accuracy: 86.200000, Test F1 score: 0.860345\n",
      "Epoch: 4\n",
      "Train accuracy: 85.743333, Train F1 score: 0.855837\n",
      "Test accuracy: 87.470000, Test F1 score: 0.873178\n",
      "Epoch: 5\n",
      "Train accuracy: 86.795000, Train F1 score: 0.866323\n",
      "Test accuracy: 88.140000, Test F1 score: 0.879984\n",
      "Epoch: 6\n",
      "Train accuracy: 87.583333, Train F1 score: 0.874264\n",
      "Test accuracy: 88.680000, Test F1 score: 0.885396\n",
      "Epoch: 7\n",
      "Train accuracy: 88.151667, Train F1 score: 0.879965\n",
      "Test accuracy: 89.210000, Test F1 score: 0.890778\n",
      "Epoch: 8\n",
      "Train accuracy: 88.601667, Train F1 score: 0.884493\n",
      "Test accuracy: 89.580000, Test F1 score: 0.894414\n",
      "Epoch: 9\n",
      "Train accuracy: 88.925000, Train F1 score: 0.887781\n",
      "Test accuracy: 89.910000, Test F1 score: 0.897775\n",
      "Epoch: 10\n",
      "Train accuracy: 89.188333, Train F1 score: 0.890426\n",
      "Test accuracy: 90.060000, Test F1 score: 0.899350\n",
      "Epoch: 11\n",
      "Train accuracy: 89.418333, Train F1 score: 0.892792\n",
      "Test accuracy: 90.350000, Test F1 score: 0.902253\n",
      "Epoch: 12\n",
      "Train accuracy: 89.625000, Train F1 score: 0.894853\n",
      "Test accuracy: 90.440000, Test F1 score: 0.903212\n",
      "Epoch: 13\n",
      "Train accuracy: 89.803333, Train F1 score: 0.896665\n",
      "Test accuracy: 90.690000, Test F1 score: 0.905780\n",
      "Epoch: 14\n",
      "Train accuracy: 89.973333, Train F1 score: 0.898387\n",
      "Test accuracy: 90.790000, Test F1 score: 0.906817\n",
      "Epoch: 15\n",
      "Train accuracy: 90.111667, Train F1 score: 0.899826\n",
      "Test accuracy: 90.870000, Test F1 score: 0.907624\n",
      "Epoch: 16\n",
      "Train accuracy: 90.260000, Train F1 score: 0.901329\n",
      "Test accuracy: 90.980000, Test F1 score: 0.908795\n",
      "Epoch: 17\n",
      "Train accuracy: 90.401667, Train F1 score: 0.902780\n",
      "Test accuracy: 91.070000, Test F1 score: 0.909718\n",
      "Epoch: 18\n",
      "Train accuracy: 90.473333, Train F1 score: 0.903505\n",
      "Test accuracy: 91.150000, Test F1 score: 0.910483\n",
      "Epoch: 19\n",
      "Train accuracy: 90.550000, Train F1 score: 0.904272\n",
      "Test accuracy: 91.250000, Test F1 score: 0.911509\n",
      "Epoch: 20\n",
      "Train accuracy: 90.663333, Train F1 score: 0.905434\n",
      "Test accuracy: 91.330000, Test F1 score: 0.912309\n"
     ]
    }
   ],
   "source": [
    "from torch import optim\n",
    "from sklearn.metrics import confusion_matrix\n",
    "cm = np.zeros((10,10))\n",
    "\n",
    "optimizer = optim.SGD(model.parameters(), lr = 0.001)\n",
    "criterion = nn.CrossEntropyLoss()\n",
    "epochs = 20\n",
    "train_loss = []\n",
    "test_loss = []\n",
    "train_acc = []\n",
    "test_acc = []\n",
    "train_F1 = []\n",
    "test_F1 = []\n",
    "k0_val = []\n",
    "k1_val = []\n",
    "for e in range(1,epochs+1):\n",
    "    print('Epoch:',e)\n",
    "    running_loss = 0\n",
    "    train_correct = 0\n",
    "    cm = np.zeros((10,10))\n",
    "    cm_diag = np.zeros(10)\n",
    "    \n",
    "    # Train model\n",
    "    for images, labels in trainloader:\n",
    "        input = images.resize_(images.shape[0],torch.numel(images[0]))\n",
    "\n",
    "        # Train batch\n",
    "        output = model(input)\n",
    "        optimizer.zero_grad()\n",
    "        loss = criterion(output, labels)\n",
    "        running_loss += loss.item()\n",
    "        loss.backward()\n",
    "        optimizer.step()\n",
    "        \n",
    "        # Confusion matrix\n",
    "        predictions = torch.argmax(torch.nn.functional.softmax(output, dim=1), dim=1)\n",
    "        cm_temp = confusion_matrix(labels, predictions,labels = [0,1,2,3,4,5,6,7,8,9])\n",
    "        cm += cm_temp\n",
    "        cm_diag += np.diag(cm_temp)\n",
    "        \n",
    "    # Training F1 score and accuracy computations for epoch\n",
    "    train_correct += np.sum(cm_diag)\n",
    "    recall = cm_diag / np.sum(cm, axis = 1)\n",
    "    precision = cm_diag / np.sum(cm, axis = 0)\n",
    "    mean_precision = np.mean(precision)\n",
    "    mean_recall = np.mean(recall)\n",
    "    train_F1_score = 2 * mean_precision * mean_recall / (mean_precision + mean_recall)\n",
    "    train_accuracy = 100 * train_correct / len(trainset)\n",
    "    print('Train accuracy: %lf, Train F1 score: %lf' %  (train_accuracy, train_F1_score) )\n",
    "    \n",
    "    # Store metrics\n",
    "    train_loss.append(running_loss)\n",
    "    train_acc.append(train_accuracy)\n",
    "    train_F1.append(train_F1_score)\n",
    "    \n",
    "    # Store activation function parameters\n",
    "    k0_val.append(model.LReLU.k0)\n",
    "    k1_val.append(model.LReLU.k1)\n",
    "    \n",
    "    # Set model to evaluation mode before testing\n",
    "    with torch.no_grad():\n",
    "        model.eval()\n",
    "        running_loss = 0\n",
    "        test_correct = 0\n",
    "        cm = np.zeros((10,10))\n",
    "        cm_diag = np.zeros(10)\n",
    "        \n",
    "        # Test model\n",
    "        for images, labels in testloader:\n",
    "            input = images.resize_(images.shape[0],torch.numel(images[0]))\n",
    "            \n",
    "            # Test batch\n",
    "            output = model(input)\n",
    "            loss = criterion(output, labels)\n",
    "            running_loss += loss.item()\n",
    "            \n",
    "            # Confusion matrix\n",
    "            predictions = torch.argmax(torch.nn.functional.softmax(output, dim=1), dim=1)\n",
    "            cm_temp = confusion_matrix(labels, predictions,labels = [0,1,2,3,4,5,6,7,8,9])\n",
    "            cm += cm_temp\n",
    "            cm_diag += np.diag(cm_temp)\n",
    "        \n",
    "        # Test F1 score and accuracy computations for epoch\n",
    "        test_correct += np.sum(cm_diag)\n",
    "        recall = cm_diag / np.sum(cm, axis = 1)\n",
    "        precision = cm_diag / np.sum(cm, axis = 0)\n",
    "        mean_precision = np.mean(precision)\n",
    "        mean_recall = np.mean(recall)\n",
    "        test_F1_score = 2 * mean_precision * mean_recall / (mean_precision + mean_recall)\n",
    "        test_accuracy = 100 * test_correct / len(testset)\n",
    "        print('Test accuracy: %lf, Test F1 score: %lf' %  (test_accuracy, test_F1_score) )\n",
    "\n",
    "    # Store metrics\n",
    "    test_loss.append(running_loss)\n",
    "    test_acc.append(test_accuracy)\n",
    "    test_F1.append(test_F1_score)\n",
    "    \n",
    "#    test_accuracy = 100 * test_correct / len(testset)\n",
    "#    print(\"Test accuracy: %lf %lf, Test F1 score: %lf\"%(test_accuracy, test_f1_score))"
   ]
  },
  {
   "cell_type": "code",
   "execution_count": 139,
   "metadata": {},
   "outputs": [],
   "source": [
    "import matplotlib.pyplot as plt\n",
    "plt.rcParams.update({\n",
    "    \"lines.color\": \"white\",\n",
    "    \"patch.edgecolor\": \"white\",\n",
    "    \"text.color\": \"black\",\n",
    "    \"axes.facecolor\": \"white\",\n",
    "    \"axes.edgecolor\": \"lightgray\",\n",
    "    \"axes.labelcolor\": \"white\",\n",
    "    \"xtick.color\": \"white\",\n",
    "    \"ytick.color\": \"white\",\n",
    "    \"grid.color\": \"lightgray\",\n",
    "    \"figure.facecolor\": \"black\",\n",
    "    \"figure.edgecolor\": \"black\",\n",
    "    \"savefig.facecolor\": \"black\",\n",
    "    \"savefig.edgecolor\": \"black\"})\n"
   ]
  },
  {
   "cell_type": "code",
   "execution_count": 140,
   "metadata": {},
   "outputs": [
    {
     "data": {
      "image/png": "[encoded data removed]",
      "text/plain": [
       "<Figure size 432x288 with 1 Axes>"
      ]
     },
     "metadata": {},
     "output_type": "display_data"
    },
    {
     "data": {
      "text/plain": [
       "Text(0, 0.5, 'k1 parameter')"
      ]
     },
     "execution_count": 140,
     "metadata": {},
     "output_type": "execute_result"
    },
    {
     "data": {
      "image/png": "[encoded data removed]",
      "text/plain": [
       "<Figure size 432x288 with 1 Axes>"
      ]
     },
     "metadata": {},
     "output_type": "display_data"
    },
    {
     "data": {
      "image/png": "[encoded data removed]",
      "text/plain": [
       "<Figure size 432x288 with 1 Axes>"
      ]
     },
     "metadata": {},
     "output_type": "display_data"
    }
   ],
   "source": [
    "plt.plot(train_loss, label = 'training loss')\n",
    "plt.plot(test_loss, label = 'test loss')\n",
    "plt.xlabel('Epoch', fontsize=18)\n",
    "plt.ylabel('Loss', fontsize=18)\n",
    "plt.legend()\n",
    "plt.show()\n",
    "\n",
    "plt.figure()\n",
    "plt.plot(k0_val)\n",
    "plt.xlabel('Epoch', fontsize=18)\n",
    "plt.ylabel('k0 parameter', fontsize=18)\n",
    "plt.figure()\n",
    "plt.plot(k1_val)\n",
    "plt.xlabel('Epoch', fontsize=18)\n",
    "plt.ylabel('k1 parameter', fontsize=18)"
   ]
  },
  {
   "cell_type": "code",
   "execution_count": null,
   "metadata": {},
   "outputs": [],
   "source": []
  }
 ],
 "metadata": {
  "kernelspec": {
   "display_name": "Python 3",
   "language": "python",
   "name": "python3"
  },
  "language_info": {
   "codemirror_mode": {
    "name": "ipython",
    "version": 3
   },
   "file_extension": ".py",
   "mimetype": "text/x-python",
   "name": "python",
   "nbconvert_exporter": "python",
   "pygments_lexer": "ipython3",
   "version": "3.8.5"
  }
 },
 "nbformat": 4,
 "nbformat_minor": 4
}
